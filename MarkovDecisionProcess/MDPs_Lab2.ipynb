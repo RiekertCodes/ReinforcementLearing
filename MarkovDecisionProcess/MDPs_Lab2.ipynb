{
  "nbformat": 4,
  "nbformat_minor": 0,
  "metadata": {
    "kernelspec": {
      "display_name": "Python 3",
      "language": "python",
      "name": "python3"
    },
    "language_info": {
      "codemirror_mode": {
        "name": "ipython",
        "version": 3
      },
      "file_extension": ".py",
      "mimetype": "text/x-python",
      "name": "python",
      "nbconvert_exporter": "python",
      "pygments_lexer": "ipython3",
      "version": "3.8.5"
    },
    "colab": {
      "name": "MDPs_Lab2.ipynb",
      "provenance": [],
      "collapsed_sections": []
    }
  },
  "cells": [
    {
      "cell_type": "markdown",
      "metadata": {
        "id": "AvyJsOwp6wxZ"
      },
      "source": [
        "# **Reinforcement Learning - 2021**\n",
        "# **COMS4047A/COMS7053A**\n",
        "\n",
        "## **MDPs Assignment**\n",
        "\n",
        "---\n",
        "\n",
        "## Justin Abrams 2483251\n",
        "## Ashton Naidoo 2519631\n",
        "##Riekert Holder 2517888\n",
        "## Humbulani Colbert Nekhumbe 2340639\n",
        "\n",
        "\n",
        "---"
      ]
    },
    {
      "cell_type": "markdown",
      "metadata": {
        "id": "aAtUw1LSRf7G"
      },
      "source": [
        "# Library Imports\n",
        "***"
      ]
    },
    {
      "cell_type": "code",
      "metadata": {
        "id": "6mc1-NA5Rf7J"
      },
      "source": [
        "import numpy as np\n",
        "import random\n",
        "import time\n",
        "from IPython.display import clear_output"
      ],
      "execution_count": null,
      "outputs": []
    },
    {
      "cell_type": "markdown",
      "metadata": {
        "id": "1fYZpwaL65KV"
      },
      "source": [
        "# Function Definitions"
      ]
    },
    {
      "cell_type": "code",
      "metadata": {
        "id": "bIFpOj5lRf7L"
      },
      "source": [
        "def createWorld(): \n",
        "    \"\"\"\n",
        "    Generates a 7x7 grid world padded with -1's.\n",
        "    -1's indicate walls/obsticles.\n",
        "    \"\"\"\n",
        "    gridWorld = np.zeros((9,9))\n",
        "    \n",
        "    # Internal Walls\n",
        "    gridWorld[3,1:7] = -1 \n",
        "    \n",
        "    # External Walls\n",
        "    gridWorld[0,:] = -1\n",
        "    gridWorld[8,:] = -1\n",
        "    gridWorld[:,0] = -1\n",
        "    gridWorld[:,8] = -1\n",
        "   \n",
        "    gridWorld[7,1] = 0 # for debugging\n",
        "    gridWorld[1,1] = 20\n",
        "    \n",
        "    return gridWorld\n",
        "\n",
        "def optimalPath(): \n",
        "    \n",
        "    gridWorld = np.zeros((9,9))\n",
        "    \n",
        "    # Internal Walls\n",
        "    gridWorld[3,1:7] = -1 \n",
        "    \n",
        "    # External Walls\n",
        "    gridWorld[0,:] = -1\n",
        "    gridWorld[8,:] = -1\n",
        "    gridWorld[:,0] = -1\n",
        "    gridWorld[:,8] = -1\n",
        "    \n",
        "    # Building one of the optimal pathes \n",
        "    gridWorld[7,1:8] = 1\n",
        "    gridWorld[1,2:8] = 1\n",
        "    gridWorld[2:7,7] = 1\n",
        "    \n",
        "    gridWorld[7,1] = 1 #debugging\n",
        "    gridWorld[1,1] = 20\n",
        "    \n",
        "    return gridWorld\n",
        "\n",
        "def addToPath(agent, action):\n",
        "    if action == 'N':\n",
        "        agent['path'][agent['stateR']-1][agent['stateC']-1] = \"\\u2191\"\n",
        "    elif action == 'S':\n",
        "        agent['path'][agent['stateR']-1][agent['stateC']-1] = \"\\u2193\" \n",
        "    elif action == 'E':\n",
        "        agent['path'][agent['stateR']-1][agent['stateC']-1] = \"\\u2192\" \n",
        "    elif action == 'W':\n",
        "        agent['path'][agent['stateR']-1][agent['stateC']-1] = \"\\u2190\"\n",
        "    else:\n",
        "        agent['path'][agent['stateR']-1][agent['stateC']-1] = \"\\u272F\"\n",
        "\n",
        "def printPath(agent):\n",
        "    for x in range(7):\n",
        "        print(agent['path'][x])\n",
        "\n",
        "# def printPath(agent):\n",
        "#     for x in range(7):\n",
        "#         print(\"-\" * 15)\n",
        "#         for y in range(7):\n",
        "#             print(\"|\", agent['path'][x][y], end='', sep='')\n",
        "#         print(\"|\")\n",
        "#     print(\"-\" * 15)\n",
        "\n",
        "\n",
        "def optimalGrid(): \n",
        "    \"\"\"\n",
        "    # defines optimal policy grid.\n",
        "    \"\"\"\n",
        "    policy = np.zeros((9,9))\n",
        "    \n",
        "    policy[3,1:7] = -1 # Internal Wall\n",
        "    policy[0,:] = -1\n",
        "    policy[8,:] = -1\n",
        "    policy[:,0] = -1\n",
        "    policy[:,8] = -1\n",
        "    \n",
        "    policy[4, 1:7] = 2            # 2 \n",
        "    policy[2:8, 7] = 1            # 1\n",
        "    policy[2,1] = 1               # 1\n",
        "    policy[1,2:8] = 3             # 4\n",
        "\n",
        "    for i in range(1,6):\n",
        "        policy[2, 1+i] = 13         # 12\n",
        "\n",
        "    for i in range(3):\n",
        "        for x in range(6): \n",
        "            policy[5+i,1+x] = 12    #14\n",
        "            \n",
        "    return policy\n",
        "\n",
        "def optimalPolicy(agent, policy, aGridWorld):\n",
        "    '''\n",
        "    Defines optimal policy and makes an optimal choice based off of the policy.\n",
        "    Integers indicate directions as follows:\n",
        "    1 : North\n",
        "    2 : East\n",
        "    3 : West\n",
        "    12 : North or East\n",
        "    13 : North or West\n",
        "    '''\n",
        "    # printing pathes taken\n",
        "    if aGridWorld[agent['stateR'], agent['stateC']] == -2:\n",
        "        aGridWorld[agent['stateR'], agent['stateC']] = 0\n",
        "    else:\n",
        "        aGridWorld[agent['stateR'], agent['stateC']] = -2\n",
        "    \n",
        "    # make optimal choice based on optimal policy grid\n",
        "    if policy[agent['stateR'], agent['stateC']] == 12:\n",
        "        choice = random.choice(['N','E'])\n",
        "    elif policy[agent['stateR'], agent['stateC']] == 13:\n",
        "        choice = random.choice(['N','W'])\n",
        "    elif policy[agent['stateR'], agent['stateC']] == 1:\n",
        "        choice = 'N' \n",
        "    elif policy[agent['stateR'], agent['stateC']] == 2:\n",
        "        choice = 'E'\n",
        "    elif policy[agent['stateR'], agent['stateC']] == 3:\n",
        "        choice = 'W'\n",
        "\n",
        "    else:\n",
        "        print('Weird Direction: {}'.format(policy[agent['stateR'], agent['stateC']]))\n",
        "        \n",
        "    return choice\n",
        "\n",
        "def createAgent():\n",
        "    randomAgent = {\n",
        "        'stateR' : 7, #initial state set to start position\n",
        "        'stateC' : 1, #initial state set to start position\n",
        "        'goalR' : 1,\n",
        "        'goalC' : 1,\n",
        "        'actionState' : 'stop',\n",
        "        'reward' : 0,\n",
        "        'path' : [['.' for i in range(7)] for j in range(7)]\n",
        "    }\n",
        "    return randomAgent\n",
        "\n",
        "\n",
        "def showDict(arg):\n",
        "    for key, value in arg.items():\n",
        "        print(\"{}: \\t{}\".format(key,value))       \n",
        "        \n",
        "def randomPolicy():\n",
        "    choice = random.choice(['N','S','E','W'])\n",
        "    return choice\n",
        "\n",
        "def checkPotentialReward(agentState, aGridWorld):\n",
        "    if aGridWorld[agentState['stateR'], agentState['stateC']] == -2:\n",
        "        aGridWorld[agentState['stateR'], agentState['stateC']] = 0\n",
        "    else:\n",
        "        aGridWorld[agentState['stateR'], agentState['stateC']] = -2\n",
        "    potentialRewards = {\n",
        "        'N'    : aGridWorld[agentState['stateR'] - 1, agentState['stateC']],\n",
        "        'S'    : aGridWorld[agentState['stateR'] + 1, agentState['stateC']],\n",
        "        'E'    : aGridWorld[agentState['stateR'], agentState['stateC'] + 1],\n",
        "        'W'    : aGridWorld[agentState['stateR'], agentState['stateC'] - 1],\n",
        "        'Stop' : aGridWorld[agentState['stateR'], agentState['stateC']]\n",
        "        }\n",
        "    \n",
        "    return potentialRewards\n",
        "\n",
        "\n",
        "def greedyPolicy(checkPotentialReward):\n",
        "    \"\"\"\n",
        "    input:\n",
        "    A dictionary containing directions to take and thier corresponding rewards.\n",
        "    \n",
        "    Output:\n",
        "    Returns a key from the input dict of the best direction to take, or\n",
        "    a random best decision if there are mutiple decisions with equal highest reward.\n",
        "    \n",
        "    \"\"\"  \n",
        "    # avoidWalls dict, but also rewards that will avoid obsticles\n",
        "    avoidWalls = {key : value for key, value in checkPotentialReward.items() if value != -1 and key != 'Stop'} \n",
        "    \n",
        "    #print(\"avoidWalls\")\n",
        "    print(\"Possible Rewards\" + str(avoidWalls))\n",
        "    \n",
        "    maxReward = max(avoidWalls, key = avoidWalls.get) # NB, this stores 1 key with the biggest value\n",
        "    #return maxReward\n",
        "\n",
        "    count = 0\n",
        "    maxDuplicates = {}\n",
        "    for key, value in avoidWalls.items():\n",
        "        if value == avoidWalls[maxReward]:\n",
        "            count += 1\n",
        "            maxDuplicates.update({key:value})\n",
        "            \n",
        "    if count == 1:\n",
        "        return maxReward\n",
        "    if count > 1:\n",
        "        return random.choice(list(maxDuplicates.keys())) \n",
        "\n",
        "def exeAction(randomAgent, choice):\n",
        "    \"\"\"\n",
        "    Recieves an agent's state and required action to take.\n",
        "    Exectutes the action\n",
        "    Updates the state\n",
        "    Returns the new state and a reward based on the action taken\n",
        "    \n",
        "    NB! Reward returned is only for the the action taken\n",
        "    \"\"\"\n",
        "\n",
        "    addToPath(randomAgent, choice)\n",
        "\n",
        "    if choice == 'N':\n",
        "        randomAgent['stateR'] -= 1 \n",
        "        reward = -1\n",
        "    elif choice == 'S':\n",
        "        randomAgent['stateR'] += 1 \n",
        "        reward = -1\n",
        "    elif choice == 'E':\n",
        "        randomAgent['stateC'] += 1\n",
        "        reward = -1 \n",
        "    elif choice == 'W':\n",
        "        randomAgent['stateC'] -= 1\n",
        "        reward = -1 \n",
        "    else:\n",
        "        print('Agent stopped at position x: {} y: {}'.format(randomAgent['stateR'],randomAgent['stateC'])) \n",
        "        reward = 0\n",
        "        \n",
        "    randomAgent['reward'] += reward\n",
        "    \n",
        "    return randomAgent['stateR'], randomAgent['stateC'], reward \n",
        "\n",
        "def checkState(agentState):\n",
        "    if agentState['stateR'] == agentState['goalR'] and agentState['stateC'] == agentState['goalC']:\n",
        "        agentState['reward'] += 20\n",
        "        print(\"Goal Reached!!!\")\n",
        "        return True\n",
        "    else:\n",
        "        return False\n",
        "    \n"
      ],
      "execution_count": null,
      "outputs": []
    },
    {
      "cell_type": "markdown",
      "metadata": {
        "id": "rwFY1pCU7mwb"
      },
      "source": [
        "# Random Agent\n",
        "The agent randomly chooses a direction. <br>\n",
        "If the direction chosen is a wall, then the agents state/position stays the same but still recieves a reward of -1 for moving."
      ]
    },
    {
      "cell_type": "code",
      "metadata": {
        "id": "6HPaOsDpRf7O",
        "colab": {
          "base_uri": "https://localhost:8080/"
        },
        "outputId": "693c2099-1e35-43b3-80d4-6e614aab8147"
      },
      "source": [
        "#random agent test\n",
        "gridWorld1 = createWorld()\n",
        "randomAgent1 = createAgent()\n",
        "for i in range(50):\n",
        "    if checkState(randomAgent1) != True:\n",
        "        clear_output(wait=True) #clears the notbook output\n",
        "        checkPot = checkPotentialReward(randomAgent1, gridWorld1)# checks what the reward of the actions are\n",
        "        choice = randomPolicy() # randomly chooses an action\n",
        "        print('Agent Reward: {}'.format(randomAgent1['reward']))\n",
        "        \n",
        "        showDict(checkPot)\n",
        "        \n",
        "        if checkPot[choice] != -1:\n",
        "            exeAction(randomAgent1, choice)\n",
        "        else:\n",
        "            randomAgent1['reward'] -= 1\n",
        "        \n",
        "\n",
        "        #showDict(checkPot)\n",
        "        #print(gridWorld1)\n",
        "        printPath(randomAgent1)\n",
        "        time.sleep(0.2)\n",
        "    if checkState(randomAgent1):\n",
        "        exeAction(randomAgent1, 'Stop')\n",
        "        printPath(randomAgent1)\n",
        "        break\n",
        "\n"
      ],
      "execution_count": null,
      "outputs": [
        {
          "output_type": "stream",
          "text": [
            "Agent Reward: -49\n",
            "N: \t0.0\n",
            "S: \t0.0\n",
            "E: \t0.0\n",
            "W: \t-2.0\n",
            "Stop: \t0.0\n",
            "['.', '.', '.', '.', '.', '.', '.']\n",
            "['.', '.', '.', '.', '.', '.', '.']\n",
            "['.', '.', '.', '.', '.', '.', '.']\n",
            "['→', '↓', '.', '.', '↓', '.', '.']\n",
            "['↑', '→', '↓', '←', '↓', '↓', '.']\n",
            "['↑', '↑', '↓', '↑', '←', '↑', '.']\n",
            "['↑', '.', '→', '→', '→', '↑', '.']\n"
          ],
          "name": "stdout"
        }
      ]
    },
    {
      "cell_type": "markdown",
      "metadata": {
        "id": "eZ7cdIYIS9fS"
      },
      "source": [
        "# Greedy Agent (Random)\n",
        "This agent chooses the best/maximum reward. <br>\n",
        "If there are maximum rewards which are equal, the agent will randomly choose one."
      ]
    },
    {
      "cell_type": "code",
      "metadata": {
        "id": "o1sNhzmlRf7Q",
        "colab": {
          "base_uri": "https://localhost:8080/"
        },
        "outputId": "75791613-8a68-4a9f-cd6e-6b2c379f5b02"
      },
      "source": [
        "# greedy agent that chooses randomly when there are multiple maximum/optimal rewards\n",
        "gridWorld2 = createWorld()\n",
        "randomAgent2 = createAgent()\n",
        "\n",
        "for i in range(50):\n",
        "    if checkState(randomAgent2) != True:\n",
        "        clear_output(wait=True) #clears the notbook output\n",
        "        checkPot = checkPotentialReward(randomAgent2, gridWorld2) #Check what the rewards are\n",
        "        choice = greedyPolicy(checkPot) # Choose the direction with highest reward\n",
        "        print('Direction chosen: {}'.format(choice))\n",
        "        print('Agent Reward: {}'.format(randomAgent2['reward']))\n",
        "        exeAction(randomAgent2, choice) # make agent move in that direction\n",
        "        #showDict(checkPot)\n",
        "        #print(gridWorld2)\n",
        "        printPath(randomAgent2)\n",
        "        time.sleep(0.5)\n",
        "    if checkState(randomAgent2):\n",
        "        clear_output(wait=True) #clears the notbook output\n",
        "        #print(gridWorld2)\n",
        "        printPath(randomAgent2)\n",
        "        exeAction(randomAgent2, 'Stop')\n",
        "        print('Agent Reward: {}'.format(randomAgent2['reward']))\n",
        "        break\n",
        "\n",
        "\n",
        "    "
      ],
      "execution_count": null,
      "outputs": [
        {
          "output_type": "stream",
          "text": [
            "['.', '←', '←', '.', '↓', '←', '←']\n",
            "['.', '.', '↑', '←', '←', '.', '↑']\n",
            "['.', '.', '.', '.', '.', '.', '↑']\n",
            "['.', '→', '→', '→', '→', '→', '↑']\n",
            "['.', '↑', '←', '←', '←', '←', '←']\n",
            "['.', '.', '.', '→', '↓', '.', '↑']\n",
            "['→', '→', '→', '↑', '→', '→', '↑']\n",
            "Agent stopped at position x: 1 y: 1\n",
            "Agent Reward: -12\n"
          ],
          "name": "stdout"
        }
      ]
    },
    {
      "cell_type": "markdown",
      "metadata": {
        "id": "sMMw7bXHTCGG"
      },
      "source": [
        "# Greedy Agent (Fixed Optimal Path)\n",
        "This agent chooses the best/maximum reward. It's choice is based on a fixed optimal path."
      ]
    },
    {
      "cell_type": "code",
      "metadata": {
        "id": "YmGwJm8bRf7R",
        "colab": {
          "base_uri": "https://localhost:8080/"
        },
        "outputId": "5c18845b-d0fd-4e1b-8eec-6bfbec7e0494"
      },
      "source": [
        "# greedy agent with preset optimal path\n",
        "gridWorld3 = optimalPath()\n",
        "randomAgent3 = createAgent()\n",
        "\n",
        "for i in range(50):\n",
        "    if checkState(randomAgent3) != True:\n",
        "        clear_output(wait=True) #clears the notbook output\n",
        "        checkPot = checkPotentialReward(randomAgent3, gridWorld3) #Check what the rewards are\n",
        "        \n",
        "        #showDict(checkPot)\n",
        "        \n",
        "        choice = greedyPolicy(checkPot) # Choose the direction with highest reward\n",
        "        print('Direction chosen: {}'.format(choice))\n",
        "        print('Agent Reward: {}'.format(randomAgent3['reward']))\n",
        "        exeAction(randomAgent3, choice) # make agent move in that direction\n",
        "\n",
        "        #print(gridWorld3)\n",
        "        printPath(randomAgent3)\n",
        "        time.sleep(0.5)\n",
        "    if checkState(randomAgent3):\n",
        "        clear_output(wait=True) #clears the notbook output\n",
        "        #print(gridWorld3)\n",
        "        printPath(randomAgent3)\n",
        "        exeAction(randomAgent3, 'Stop')\n",
        "        print('Agent Reward: {}'.format(randomAgent3['reward']))\n",
        "        break\n",
        "\n",
        "\n",
        "   "
      ],
      "execution_count": null,
      "outputs": [
        {
          "output_type": "stream",
          "text": [
            "['.', '←', '←', '←', '←', '←', '←']\n",
            "['.', '.', '.', '.', '.', '.', '↑']\n",
            "['.', '.', '.', '.', '.', '.', '↑']\n",
            "['.', '.', '.', '.', '.', '.', '↑']\n",
            "['.', '.', '.', '.', '.', '.', '↑']\n",
            "['.', '.', '.', '.', '.', '.', '↑']\n",
            "['→', '→', '→', '→', '→', '→', '↑']\n",
            "Agent stopped at position x: 1 y: 1\n",
            "Agent Reward: 2\n"
          ],
          "name": "stdout"
        }
      ]
    },
    {
      "cell_type": "markdown",
      "metadata": {
        "id": "-x4tIDb7THp4"
      },
      "source": [
        "# Greedy Agent (Optimal Policy)\n",
        "This agent chooses the best/maximum reward based on an optimal policy. <br>\n",
        "For choices where there are two directions defined, \n",
        "the agent will randomly choose one."
      ]
    },
    {
      "cell_type": "code",
      "metadata": {
        "id": "GaBf8Lawq81w",
        "colab": {
          "base_uri": "https://localhost:8080/"
        },
        "outputId": "cb08807f-ca12-4406-eec5-84ca2bff48eb"
      },
      "source": [
        "# greedy agent test with optimal policy\n",
        "gridWorld4 = createWorld()\n",
        "randomAgent4 = createAgent()\n",
        "policy = optimalGrid()\n",
        "\n",
        "for i in range(50):\n",
        "    if checkState(randomAgent4) != True:\n",
        "        clear_output(wait=True) #clears the notbook output\n",
        "        \n",
        "        choice  = optimalPolicy(randomAgent4, policy ,gridWorld4)\n",
        "        print('Direction chosen: {}'.format(choice))\n",
        "        exeAction(randomAgent4, choice) # make agent move in that direction\n",
        "        \n",
        "        print('Agent Reward: {}'.format(randomAgent4['reward']))\n",
        "        #print(gridWorld4)\n",
        "        printPath(randomAgent4)\n",
        "        time.sleep(0.5)\n",
        "    if checkState(randomAgent4):\n",
        "        clear_output(wait=True) #clears the notbook output\n",
        "        #print(gridWorld4)\n",
        "        printPath(randomAgent4)\n",
        "        exeAction(randomAgent4, 'Stop')\n",
        "        print('Agent Reward: {}'.format(randomAgent4['reward']))\n",
        "        break\n",
        "        \n"
      ],
      "execution_count": null,
      "outputs": [
        {
          "output_type": "stream",
          "text": [
            "['.', '←', '←', '←', '←', '←', '←']\n",
            "['.', '.', '.', '.', '.', '.', '↑']\n",
            "['.', '.', '.', '.', '.', '.', '↑']\n",
            "['.', '.', '.', '.', '.', '.', '↑']\n",
            "['.', '.', '.', '→', '→', '→', '↑']\n",
            "['.', '.', '→', '↑', '.', '.', '.']\n",
            "['→', '→', '↑', '.', '.', '.', '.']\n",
            "Agent stopped at position x: 1 y: 1\n",
            "Agent Reward: 2\n"
          ],
          "name": "stdout"
        }
      ]
    },
    {
      "cell_type": "markdown",
      "metadata": {
        "id": "IL2wRPwpFp_o"
      },
      "source": [
        "# Bar Graphs\n",
        "A bar graph of the returns accumulated by the random agent and the greedy agent with optimal value function,\n",
        "averaged over 20 runs each."
      ]
    },
    {
      "cell_type": "code",
      "metadata": {
        "id": "VwoGCTPOGs0f"
      },
      "source": [
        "iterations = list(range(1, 21))\n",
        "rewardsAvg1 = []\n",
        "rewardsAvg2 = []"
      ],
      "execution_count": null,
      "outputs": []
    },
    {
      "cell_type": "code",
      "metadata": {
        "id": "_wVmmuS2GZy-",
        "colab": {
          "base_uri": "https://localhost:8080/"
        },
        "outputId": "8167897e-b8b7-4ca6-b112-728d385b19a1"
      },
      "source": [
        "\n",
        "#random agent test\n",
        "meanR = 0\n",
        "for i in range(20):\n",
        "    gridWorld1 = createWorld()\n",
        "    agent = createAgent()\n",
        "    for i in range(50):\n",
        "        if checkState(agent) != True:\n",
        "            clear_output(wait=True) #clears the notbook output\n",
        "            checkPot = checkPotentialReward(agent, gridWorld1)# checks what the reward of the actions are\n",
        "            choice = randomPolicy() # randomly chooses an action\n",
        "            \n",
        "            if checkPot[choice] != -1:\n",
        "                exeAction(agent, choice)\n",
        "            else:\n",
        "                agent['reward'] -= 1\n",
        "            \n",
        "        if checkState(agent):\n",
        "            exeAction(agent, 'Stop')\n",
        "            break\n",
        "\n",
        "    meanR += agent['reward']\n",
        "meanR = meanR/20.0\n",
        "print(meanR)"
      ],
      "execution_count": null,
      "outputs": [
        {
          "output_type": "stream",
          "text": [
            "-50.0\n"
          ],
          "name": "stdout"
        }
      ]
    },
    {
      "cell_type": "code",
      "metadata": {
        "id": "RDOK6tbwPFW0",
        "colab": {
          "base_uri": "https://localhost:8080/"
        },
        "outputId": "9d0c8686-7e7e-48d9-b089-cd501baeaa6e"
      },
      "source": [
        "# greedy agent test with optimal policy\n",
        "meanG = 0\n",
        "for iter in range(20):\n",
        "    gridWorld4 = createWorld()\n",
        "    randomAgent4 = createAgent()\n",
        "    policy = optimalGrid()\n",
        "    for i in range(50):\n",
        "        if checkState(randomAgent4) != True:\n",
        "            clear_output(wait=True) #clears the notbook output\n",
        "            \n",
        "            choice  = optimalPolicy(randomAgent4, policy ,gridWorld4)\n",
        "            exeAction(randomAgent4, choice) # make agent move in that direction\n",
        "            \n",
        "        if checkState(randomAgent4):\n",
        "            clear_output(wait=True) #clears the notbook output\n",
        "            exeAction(randomAgent4, 'Stop')\n",
        "            break\n",
        "    meanG += randomAgent4['reward']\n",
        "meanG = meanG/20.0\n",
        "print(meanG)"
      ],
      "execution_count": null,
      "outputs": [
        {
          "output_type": "stream",
          "text": [
            "Agent stopped at position x: 1 y: 1\n",
            "2.0\n"
          ],
          "name": "stdout"
        }
      ]
    },
    {
      "cell_type": "code",
      "metadata": {
        "id": "TuGQMV-DF62o"
      },
      "source": [
        "import matplotlib.pyplot as plt"
      ],
      "execution_count": null,
      "outputs": []
    },
    {
      "cell_type": "code",
      "metadata": {
        "id": "Sq6sUCOHG1Ul",
        "colab": {
          "base_uri": "https://localhost:8080/",
          "height": 350
        },
        "outputId": "6ff66865-d180-486e-f8f7-5fd7dae488ae"
      },
      "source": [
        "data = {'Random Agent':meanR, 'Greedy Optimal':meanG}\n",
        "courses = list(data.keys())\n",
        "values = list(data.values())\n",
        "  \n",
        "fig = plt.figure(figsize = (10, 5))\n",
        " \n",
        "# creating the bar plot\n",
        "plt.bar(courses, values, color ='maroon',\n",
        "        width = 0.4)\n",
        " \n",
        "plt.xlabel(\"Agents\")\n",
        "plt.ylabel(\"Rewards\")\n",
        "plt.title(\"Random vs Greedy Agent Average Reward\")\n",
        "plt.show()"
      ],
      "execution_count": null,
      "outputs": [
        {
          "output_type": "display_data",
          "data": {
            "image/png": "[encoded data removed]",
            "text/plain": [
              "<Figure size 720x360 with 1 Axes>"
            ]
          },
          "metadata": {
            "needs_background": "light"
          }
        }
      ]
    },
    {
      "cell_type": "markdown",
      "metadata": {
        "id": "I-rFsEfJUGpY"
      },
      "source": [
        "Greedy optimal policy"
      ]
    },
    {
      "cell_type": "markdown",
      "metadata": {
        "id": "AsahumRiT9_1"
      },
      "source": [
        "![Screenshot_from_2021-08-25_23-50-28.png](data:image/png;base64,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)"
      ]
    },
    {
      "cell_type": "markdown",
      "metadata": {
        "id": "g2CzkBUfUI1g"
      },
      "source": [
        "Random Agent optimal Policy"
      ]
    },
    {
      "cell_type": "markdown",
      "metadata": {
        "id": "RClnnMjlT9eh"
      },
      "source": [
        "![Screenshot_from_2021-08-25_23-50-06.png](data:image/png;base64,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)"
      ]
    },
    {
      "cell_type": "code",
      "metadata": {
        "id": "jvrDmdvMRhq4"
      },
      "source": [
        ""
      ],
      "execution_count": null,
      "outputs": []
    }
  ]
}